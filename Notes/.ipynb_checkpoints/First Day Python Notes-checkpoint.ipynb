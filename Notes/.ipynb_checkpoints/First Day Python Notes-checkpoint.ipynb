{
 "cells": [
  {
   "cell_type": "markdown",
   "id": "a2266212",
   "metadata": {},
   "source": [
    "## 12/15/2022\n",
    "\n",
    "# Project 350 \n",
    "\n",
    "This is Mark Up"
   ]
  },
  {
   "cell_type": "markdown",
   "id": "4a7a2f3d",
   "metadata": {},
   "source": [
    "<h1>Hello\n",
    "\n",
    "World!</h1>"
   ]
  },
  {
   "cell_type": "markdown",
   "id": "2803c4d7",
   "metadata": {},
   "source": [
    "# Hello World!"
   ]
  },
  {
   "cell_type": "code",
   "execution_count": 24,
   "id": "87704c61",
   "metadata": {},
   "outputs": [
    {
     "data": {
      "text/plain": [
       "'\\nOne Line \\nTwo Lines\\n'"
      ]
     },
     "execution_count": 24,
     "metadata": {},
     "output_type": "execute_result"
    }
   ],
   "source": [
    "#Single Line Comment\n",
    "#print(\"Hello World!\")\n",
    "\"\"\"Multi-line comment\"\"\"\n",
    "\"\"\"\n",
    "One Line \n",
    "Two Lines\n",
    "\"\"\""
   ]
  },
  {
   "cell_type": "markdown",
   "id": "33e040fc",
   "metadata": {},
   "source": [
    "\"\"\"\n",
    "while 0 < 5:\n",
    "    print(\"Hello World!\")\n",
    "\"\"\""
   ]
  },
  {
   "cell_type": "code",
   "execution_count": null,
   "id": "0ab7ee7d",
   "metadata": {},
   "outputs": [],
   "source": []
  },
  {
   "cell_type": "code",
   "execution_count": 25,
   "id": "6e4e4bfe",
   "metadata": {},
   "outputs": [],
   "source": [
    "#Data Types"
   ]
  },
  {
   "cell_type": "code",
   "execution_count": 26,
   "id": "dcb705d4",
   "metadata": {},
   "outputs": [],
   "source": [
    "#Variable"
   ]
  },
  {
   "cell_type": "code",
   "execution_count": 27,
   "id": "76d2cb75",
   "metadata": {},
   "outputs": [],
   "source": [
    "#Math in Python"
   ]
  },
  {
   "cell_type": "code",
   "execution_count": 28,
   "id": "819f40b4",
   "metadata": {},
   "outputs": [],
   "source": [
    "#Conditional Evaluation"
   ]
  },
  {
   "cell_type": "code",
   "execution_count": 29,
   "id": "8f46bcf4",
   "metadata": {},
   "outputs": [],
   "source": [
    "#Data Structures"
   ]
  },
  {
   "cell_type": "code",
   "execution_count": 30,
   "id": "949b2f0e",
   "metadata": {},
   "outputs": [],
   "source": [
    "#input Function"
   ]
  },
  {
   "cell_type": "code",
   "execution_count": null,
   "id": "17974d50",
   "metadata": {},
   "outputs": [],
   "source": []
  },
  {
   "cell_type": "code",
   "execution_count": null,
   "id": "ba9f5650",
   "metadata": {},
   "outputs": [],
   "source": []
  }
 ],
 "metadata": {
  "kernelspec": {
   "display_name": "Python 3 (ipykernel)",
   "language": "python",
   "name": "python3"
  },
  "language_info": {
   "codemirror_mode": {
    "name": "ipython",
    "version": 3
   },
   "file_extension": ".py",
   "mimetype": "text/x-python",
   "name": "python",
   "nbconvert_exporter": "python",
   "pygments_lexer": "ipython3",
   "version": "3.9.13"
  }
 },
 "nbformat": 4,
 "nbformat_minor": 5
}
