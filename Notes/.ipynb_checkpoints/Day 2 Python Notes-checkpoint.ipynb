{
 "cells": [
  {
   "cell_type": "code",
   "execution_count": 11,
   "id": "4bf99ae2",
   "metadata": {},
   "outputs": [],
   "source": [
    "#Recap \n",
    "#Data Types\n",
    "my_String = \"This is a string.\"\n",
    "my_int_I_can_name_this_anything = 45\n",
    "my_float = 4.5\n",
    "my_boolean = True"
   ]
  },
  {
   "cell_type": "code",
   "execution_count": 2,
   "id": "f8963e9c",
   "metadata": {},
   "outputs": [
    {
     "data": {
      "text/plain": [
       "str"
      ]
     },
     "execution_count": 2,
     "metadata": {},
     "output_type": "execute_result"
    }
   ],
   "source": [
    "type(my_String)"
   ]
  },
  {
   "cell_type": "code",
   "execution_count": 4,
   "id": "a2c6aa92",
   "metadata": {},
   "outputs": [
    {
     "name": "stdout",
     "output_type": "stream",
     "text": [
      "True\n"
     ]
    }
   ],
   "source": [
    "print(my_boolean)"
   ]
  },
  {
   "cell_type": "code",
   "execution_count": 5,
   "id": "4cfe3684",
   "metadata": {},
   "outputs": [
    {
     "data": {
      "text/plain": [
       "True"
      ]
     },
     "execution_count": 5,
     "metadata": {},
     "output_type": "execute_result"
    }
   ],
   "source": [
    "my_int > my_float"
   ]
  },
  {
   "cell_type": "code",
   "execution_count": 6,
   "id": "6c207182",
   "metadata": {},
   "outputs": [
    {
     "name": "stdout",
     "output_type": "stream",
     "text": [
      "Enter a number between 1 & 5: 5\n"
     ]
    }
   ],
   "source": [
    "my_input = input(\"Enter a number between 1 & 5: \")"
   ]
  },
  {
   "cell_type": "code",
   "execution_count": 7,
   "id": "59ff5f04",
   "metadata": {},
   "outputs": [
    {
     "name": "stdout",
     "output_type": "stream",
     "text": [
      "5\n"
     ]
    }
   ],
   "source": [
    "print(my_input)"
   ]
  },
  {
   "cell_type": "code",
   "execution_count": 8,
   "id": "8b915764",
   "metadata": {},
   "outputs": [
    {
     "data": {
      "text/plain": [
       "str"
      ]
     },
     "execution_count": 8,
     "metadata": {},
     "output_type": "execute_result"
    }
   ],
   "source": [
    "type(my_input)"
   ]
  },
  {
   "cell_type": "code",
   "execution_count": 9,
   "id": "8a9fe06d",
   "metadata": {},
   "outputs": [
    {
     "data": {
      "text/plain": [
       "False"
      ]
     },
     "execution_count": 9,
     "metadata": {},
     "output_type": "execute_result"
    }
   ],
   "source": [
    "my_input == 5"
   ]
  },
  {
   "cell_type": "code",
   "execution_count": 12,
   "id": "7e01e126",
   "metadata": {},
   "outputs": [],
   "source": [
    "#Functions\n",
    "#Reusable Pieces of Code that carry out a specific task.\n",
    "#Like Math functions -> Consistent output based on input.\n",
    "#Single Responsibility Principle - Every function should accomplish one task\n",
    "\n",
    "#Syntax for defining a function- def name_of_the_function(parameter_1, parameter_2, etc....):\n",
    "#             #code to carry out"
   ]
  },
  {
   "cell_type": "code",
   "execution_count": 13,
   "id": "ae598057",
   "metadata": {},
   "outputs": [],
   "source": [
    "#Inside of a function's parentheses are the parameters\n",
    "#When we define a function these are called parameters\n",
    "def adds_two_things_together(x, y):\n",
    "    print(x + y)"
   ]
  },
  {
   "cell_type": "code",
   "execution_count": 15,
   "id": "4fea1b2e",
   "metadata": {},
   "outputs": [
    {
     "name": "stdout",
     "output_type": "stream",
     "text": [
      "193\n"
     ]
    }
   ],
   "source": [
    "#Function Call\n",
    "#Syntax for calling a function - name_of_the_function(argument_1, argument_2)\n",
    "adds_two_things_together(55, 138)"
   ]
  },
  {
   "cell_type": "code",
   "execution_count": 16,
   "id": "3012f207",
   "metadata": {},
   "outputs": [
    {
     "name": "stdout",
     "output_type": "stream",
     "text": [
      "Hello World!\n"
     ]
    }
   ],
   "source": [
    "adds_two_things_together(\"Hello \", \"World!\")"
   ]
  },
  {
   "cell_type": "code",
   "execution_count": null,
   "id": "3f854914",
   "metadata": {},
   "outputs": [],
   "source": [
    "#Python is a dynamic Programming language"
   ]
  },
  {
   "cell_type": "code",
   "execution_count": null,
   "id": "3a855959",
   "metadata": {},
   "outputs": [],
   "source": [
    "#Example Java Function \n",
    "#A static programming language example\n",
    "public int my_function_example(x, y) {\n",
    "    System.out.println(x + y)\n",
    "}"
   ]
  },
  {
   "cell_type": "code",
   "execution_count": 17,
   "id": "8d2763ae",
   "metadata": {},
   "outputs": [],
   "source": [
    "def no_arguments_function():\n",
    "    print(\"Hello World!\")"
   ]
  },
  {
   "cell_type": "code",
   "execution_count": 18,
   "id": "a1b58f66",
   "metadata": {},
   "outputs": [
    {
     "name": "stdout",
     "output_type": "stream",
     "text": [
      "Hello World!\n"
     ]
    }
   ],
   "source": [
    "no_arguments_function()"
   ]
  },
  {
   "cell_type": "code",
   "execution_count": 34,
   "id": "bc65f6cb",
   "metadata": {},
   "outputs": [],
   "source": [
    "x = \"We're\"\n",
    "y = \" in \"\n",
    "z = \"class!\""
   ]
  },
  {
   "cell_type": "code",
   "execution_count": 21,
   "id": "45765ff5",
   "metadata": {},
   "outputs": [
    {
     "name": "stdout",
     "output_type": "stream",
     "text": [
      "We're in class!\n"
     ]
    }
   ],
   "source": [
    "print(x + y + z)"
   ]
  },
  {
   "cell_type": "code",
   "execution_count": 29,
   "id": "6b5a9263",
   "metadata": {},
   "outputs": [],
   "source": [
    "w = r\"C:\\Users\\tgree\\OneDrive\\Documents\\My TTS Folder\\tts-ds-fundamentals-course\""
   ]
  },
  {
   "cell_type": "code",
   "execution_count": 30,
   "id": "e56cd0a7",
   "metadata": {},
   "outputs": [
    {
     "name": "stdout",
     "output_type": "stream",
     "text": [
      "C:\\Users\\tgree\\OneDrive\\Documents\\My TTS Folder\\tts-ds-fundamentals-course\n"
     ]
    }
   ],
   "source": [
    "print(w)"
   ]
  },
  {
   "cell_type": "code",
   "execution_count": 32,
   "id": "eb44d8e0",
   "metadata": {},
   "outputs": [
    {
     "data": {
      "text/plain": [
       "'C:\\\\Users\\\\tgree\\\\OneDrive\\\\D'"
      ]
     },
     "execution_count": 32,
     "metadata": {},
     "output_type": "execute_result"
    }
   ],
   "source": [
    "w[0:25]"
   ]
  },
  {
   "cell_type": "code",
   "execution_count": 33,
   "id": "88737c6b",
   "metadata": {},
   "outputs": [],
   "source": [
    "e = \"http://localhost:8890/notebooks/Notes/Untitled.ipynb?kernel_name=python3\""
   ]
  },
  {
   "cell_type": "code",
   "execution_count": null,
   "id": "716a0d47",
   "metadata": {},
   "outputs": [],
   "source": [
    "#Return\n",
    "#Return - Return statements end the function call\n",
    "        #Return statements are equivalent to the function call\n"
   ]
  },
  {
   "cell_type": "code",
   "execution_count": 43,
   "id": "6b114db7",
   "metadata": {},
   "outputs": [],
   "source": [
    "def example_function(parameter_1, parameter_2):\n",
    "    print(\"Hello World!\")\n",
    "    return(parameter_1 * parameter_2, 55)\n",
    "    "
   ]
  },
  {
   "cell_type": "code",
   "execution_count": 44,
   "id": "085c70fa",
   "metadata": {},
   "outputs": [
    {
     "name": "stdout",
     "output_type": "stream",
     "text": [
      "Hello World!\n"
     ]
    },
    {
     "data": {
      "text/plain": [
       "(25, 55)"
      ]
     },
     "execution_count": 44,
     "metadata": {},
     "output_type": "execute_result"
    }
   ],
   "source": [
    "example_function(5, 5)"
   ]
  },
  {
   "cell_type": "code",
   "execution_count": 45,
   "id": "ed977972",
   "metadata": {},
   "outputs": [
    {
     "name": "stdout",
     "output_type": "stream",
     "text": [
      "Hello World!\n"
     ]
    },
    {
     "data": {
      "text/plain": [
       "tuple"
      ]
     },
     "execution_count": 45,
     "metadata": {},
     "output_type": "execute_result"
    }
   ],
   "source": [
    "type(example_function(5, 5))"
   ]
  },
  {
   "cell_type": "code",
   "execution_count": null,
   "id": "6c594467",
   "metadata": {},
   "outputs": [],
   "source": [
    "#Changed"
   ]
  }
 ],
 "metadata": {
  "kernelspec": {
   "display_name": "Python 3 (ipykernel)",
   "language": "python",
   "name": "python3"
  },
  "language_info": {
   "codemirror_mode": {
    "name": "ipython",
    "version": 3
   },
   "file_extension": ".py",
   "mimetype": "text/x-python",
   "name": "python",
   "nbconvert_exporter": "python",
   "pygments_lexer": "ipython3",
   "version": "3.9.13"
  }
 },
 "nbformat": 4,
 "nbformat_minor": 5
}
