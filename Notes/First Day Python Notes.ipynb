{
 "cells": [
  {
   "cell_type": "markdown",
   "id": "8abc0c2e",
   "metadata": {},
   "source": [
    "## 12/15/2022\n",
    "\n",
    "# Project 350 \n",
    "\n",
    "This is Mark Up"
   ]
  },
  {
   "cell_type": "markdown",
   "id": "b34af12c",
   "metadata": {},
   "source": [
    "<h5>Hello\n",
    "\n",
    "World!</5>\n",
    "\n",
    "<ul> \n",
    "One\n",
    "Two\n",
    "</ul>"
   ]
  },
  {
   "cell_type": "markdown",
   "id": "bcfe8d43",
   "metadata": {},
   "source": [
    "# Hello World!"
   ]
  },
  {
   "cell_type": "code",
   "execution_count": 24,
   "id": "c13725ca",
   "metadata": {},
   "outputs": [
    {
     "data": {
      "text/plain": [
       "'\\nOne Line \\nTwo Lines\\n'"
      ]
     },
     "execution_count": 24,
     "metadata": {},
     "output_type": "execute_result"
    }
   ],
   "source": [
    "#Single Line Comment\n",
    "#print(\"Hello World!\")\n",
    "\"\"\"Multi-line comment\"\"\"\n",
    "\"\"\"\n",
    "One Line \n",
    "Two Lines\n",
    "\"\"\""
   ]
  },
  {
   "cell_type": "markdown",
   "id": "ceca19fc",
   "metadata": {},
   "source": [
    "\"\"\"\n",
    "while 0 < 5:\n",
    "    print(\"Hello World!\")\n",
    "\"\"\""
   ]
  },
  {
   "cell_type": "code",
   "execution_count": null,
   "id": "8500adcc",
   "metadata": {},
   "outputs": [],
   "source": []
  },
  {
   "cell_type": "code",
   "execution_count": 25,
   "id": "d32a5d02",
   "metadata": {},
   "outputs": [],
   "source": [
    "#Data Types"
   ]
  },
  {
   "cell_type": "code",
   "execution_count": 26,
   "id": "d311a100",
   "metadata": {},
   "outputs": [],
   "source": [
    "#Variable"
   ]
  },
  {
   "cell_type": "code",
   "execution_count": 27,
   "id": "c64a1212",
   "metadata": {},
   "outputs": [],
   "source": [
    "#Math in Python"
   ]
  },
  {
   "cell_type": "code",
   "execution_count": 28,
   "id": "be66ffd0",
   "metadata": {},
   "outputs": [],
   "source": [
    "#Conditional Evaluation"
   ]
  },
  {
   "cell_type": "code",
   "execution_count": 29,
   "id": "da3fae3b",
   "metadata": {},
   "outputs": [],
   "source": [
    "#Data Structures"
   ]
  },
  {
   "cell_type": "code",
   "execution_count": 30,
   "id": "af3f87a0",
   "metadata": {},
   "outputs": [],
   "source": [
    "#input Function"
   ]
  },
  {
   "cell_type": "code",
   "execution_count": null,
   "id": "0e77626e",
   "metadata": {},
   "outputs": [],
   "source": []
  },
  {
   "cell_type": "code",
   "execution_count": null,
   "id": "7a309927",
   "metadata": {},
   "outputs": [],
   "source": []
  }
 ],
 "metadata": {
  "kernelspec": {
   "display_name": "Python 3 (ipykernel)",
   "language": "python",
   "name": "python3"
  },
  "language_info": {
   "codemirror_mode": {
    "name": "ipython",
    "version": 3
   },
   "file_extension": ".py",
   "mimetype": "text/x-python",
   "name": "python",
   "nbconvert_exporter": "python",
   "pygments_lexer": "ipython3",
   "version": "3.9.13"
  }
 },
 "nbformat": 4,
 "nbformat_minor": 5
}
